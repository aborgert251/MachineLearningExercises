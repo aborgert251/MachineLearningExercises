{
  "cells": [
    {
      "cell_type": "markdown",
      "metadata": {
        "id": "e3MZEU6TbSf7"
      },
      "source": [
        "### ✅ Solution for Exercise (4)\n",
        "Here you will find the solution for exercise number (4)."
      ]
    },
    {
      "cell_type": "code",
      "execution_count": 2,
      "metadata": {
        "colab": {
          "base_uri": "https://localhost:8080/"
        },
        "id": "4l-CeuQsbRVO",
        "outputId": "ea57a164-86ac-4142-a2fb-b0cc36364b9e"
      },
      "outputs": [
        {
          "name": "stdout",
          "output_type": "stream",
          "text": [
            "2.8.0\n"
          ]
        }
      ],
      "source": [
        "# Import tensorflow under alias tf (most common)\n",
        "import tensorflow as tf\n",
        "\n",
        "# Print \"Hello World\" with python.\n",
        "print(tf.__version__)"
      ]
    }
  ],
  "metadata": {
    "colab": {
      "name": "Untitled0.ipynb",
      "provenance": []
    },
    "kernelspec": {
      "display_name": "Python 3",
      "name": "python3"
    },
    "language_info": {
      "name": "python"
    }
  },
  "nbformat": 4,
  "nbformat_minor": 0
}
