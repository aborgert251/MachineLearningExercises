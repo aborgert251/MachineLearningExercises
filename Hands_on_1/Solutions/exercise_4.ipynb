{
  "nbformat": 4,
  "nbformat_minor": 0,
  "metadata": {
    "colab": {
      "name": "Untitled0.ipynb",
      "provenance": []
    },
    "kernelspec": {
      "name": "python3",
      "display_name": "Python 3"
    },
    "language_info": {
      "name": "python"
    }
  },
  "cells": [
    {
      "cell_type": "markdown",
      "source": [
        "### ✅ Solution for Excercise (4)\n",
        "Here you will find the solution for excercise number (4) from Excercise No. 1"
      ],
      "metadata": {
        "id": "e3MZEU6TbSf7"
      }
    },
    {
      "cell_type": "code",
      "execution_count": 2,
      "metadata": {
        "colab": {
          "base_uri": "https://localhost:8080/"
        },
        "id": "4l-CeuQsbRVO",
        "outputId": "ea57a164-86ac-4142-a2fb-b0cc36364b9e"
      },
      "outputs": [
        {
          "output_type": "stream",
          "name": "stdout",
          "text": [
            "2.8.0\n"
          ]
        }
      ],
      "source": [
        "# Import tensorflow under alias tf (most common)\n",
        "import tensorflow as tf\n",
        "\n",
        "# Print \"Hello World\" with python.\n",
        "print(tf.__version__)"
      ]
    }
  ]
}