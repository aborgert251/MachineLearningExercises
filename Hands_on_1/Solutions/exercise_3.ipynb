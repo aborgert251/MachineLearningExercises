{
  "cells": [
    {
      "cell_type": "markdown",
      "metadata": {
        "id": "e3MZEU6TbSf7"
      },
      "source": [
        "### ✅ Solution for Exercise (3)\n",
        "Here you will find the solution for exercise number (3)."
      ]
    },
    {
      "cell_type": "code",
      "execution_count": 1,
      "metadata": {
        "colab": {
          "base_uri": "https://localhost:8080/"
        },
        "id": "4l-CeuQsbRVO",
        "outputId": "c6d5511b-57dd-47ac-8c23-c21d08c37e7f"
      },
      "outputs": [
        {
          "name": "stdout",
          "output_type": "stream",
          "text": [
            "Hello World\n"
          ]
        }
      ],
      "source": [
        "# Print \"Hello World\" with python.\n",
        "print('Hello World')"
      ]
    }
  ],
  "metadata": {
    "colab": {
      "name": "Untitled0.ipynb",
      "provenance": []
    },
    "kernelspec": {
      "display_name": "Python 3",
      "name": "python3"
    },
    "language_info": {
      "name": "python"
    }
  },
  "nbformat": 4,
  "nbformat_minor": 0
}
