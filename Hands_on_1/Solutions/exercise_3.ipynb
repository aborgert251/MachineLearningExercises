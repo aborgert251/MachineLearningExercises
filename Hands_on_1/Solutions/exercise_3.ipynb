{
  "nbformat": 4,
  "nbformat_minor": 0,
  "metadata": {
    "colab": {
      "name": "Untitled0.ipynb",
      "provenance": []
    },
    "kernelspec": {
      "name": "python3",
      "display_name": "Python 3"
    },
    "language_info": {
      "name": "python"
    }
  },
  "cells": [
    {
      "cell_type": "markdown",
      "source": [
        "### ✅ Solution for Excercise (3)\n",
        "Here you will find the solution for excercise number (3) from Excercise No. 1"
      ],
      "metadata": {
        "id": "e3MZEU6TbSf7"
      }
    },
    {
      "cell_type": "code",
      "execution_count": 1,
      "metadata": {
        "colab": {
          "base_uri": "https://localhost:8080/"
        },
        "id": "4l-CeuQsbRVO",
        "outputId": "c6d5511b-57dd-47ac-8c23-c21d08c37e7f"
      },
      "outputs": [
        {
          "output_type": "stream",
          "name": "stdout",
          "text": [
            "Hello World\n"
          ]
        }
      ],
      "source": [
        "# Print \"Hello World\" with python.\n",
        "print('Hello World')"
      ]
    }
  ]
}